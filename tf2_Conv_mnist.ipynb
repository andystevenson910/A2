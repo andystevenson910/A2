{
  "nbformat": 4,
  "nbformat_minor": 0,
  "metadata": {
    "colab": {
      "provenance": []
    },
    "kernelspec": {
      "name": "python3",
      "display_name": "Python 3"
    }
  },
  "cells": [
    {
      "cell_type": "code",
      "metadata": {
        "id": "fEoF9aFG2EAe",
        "colab": {
          "base_uri": "https://localhost:8080/"
        },
        "outputId": "86640302-c00f-4f9f-8014-c7780caec86c"
      },
      "source": [
        "import tensorflow.compat.v1 as tf\n",
        "tf.disable_v2_behavior()\n",
        "print(print(tf.__version__))"
      ],
      "execution_count": 2,
      "outputs": [
        {
          "output_type": "stream",
          "name": "stderr",
          "text": [
            "WARNING:tensorflow:From /usr/local/lib/python3.10/dist-packages/tensorflow/python/compat/v2_compat.py:108: disable_resource_variables (from tensorflow.python.ops.variable_scope) is deprecated and will be removed in a future version.\n",
            "Instructions for updating:\n",
            "non-resource variables are not supported in the long term\n"
          ]
        },
        {
          "output_type": "stream",
          "name": "stdout",
          "text": [
            "2.15.0\n",
            "None\n"
          ]
        }
      ]
    },
    {
      "cell_type": "markdown",
      "metadata": {
        "id": "Tebfm9bH2QvX"
      },
      "source": [
        "#MNIST: loading, splitting, and reshaping"
      ]
    },
    {
      "cell_type": "code",
      "metadata": {
        "id": "jWMq-Le02IgY",
        "colab": {
          "base_uri": "https://localhost:8080/"
        },
        "outputId": "07408a03-6793-4c35-9531-c98201954108"
      },
      "source": [
        "mnist = tf.keras.datasets.mnist\n",
        "(training_images, training_labels), (test_images, test_labels) = mnist.load_data()\n",
        "training_images=training_images.reshape(60000, 28, 28, 1)\n",
        "training_images=training_images / 255.0\n",
        "test_images = test_images.reshape(10000, 28, 28, 1)\n",
        "test_images=test_images/255.0"
      ],
      "execution_count": 3,
      "outputs": [
        {
          "output_type": "stream",
          "name": "stdout",
          "text": [
            "Downloading data from https://storage.googleapis.com/tensorflow/tf-keras-datasets/mnist.npz\n",
            "11490434/11490434 [==============================] - 0s 0us/step\n"
          ]
        }
      ]
    },
    {
      "cell_type": "markdown",
      "metadata": {
        "id": "5uiCRekF2fLu"
      },
      "source": [
        "#Convnet architecture definition\n",
        "\n",
        "*   One convolution layer (32 filters of shape (3,3) with ReLU)\n",
        "*   One max-pooling layer (filter shape: (2,2))\n",
        "*   One fully connected layer (128 units; ReLU activation)\n",
        "*   10 output units (softmax layer)\n",
        "\n"
      ]
    },
    {
      "cell_type": "code",
      "metadata": {
        "id": "45VaNEYk2YJ1"
      },
      "source": [
        "model = tf.keras.models.Sequential([\n",
        "  tf.keras.layers.Conv2D(32, (3,3), activation='relu', input_shape=(28, 28, 1)),\n",
        "  tf.keras.layers.MaxPooling2D(2, 2),\n",
        "  tf.keras.layers.Flatten(),\n",
        "  tf.keras.layers.Dense(128, activation='relu'),\n",
        "  tf.keras.layers.Dense(10, activation='softmax')\n",
        "])"
      ],
      "execution_count": 4,
      "outputs": []
    },
    {
      "cell_type": "markdown",
      "metadata": {
        "id": "o2CGInlf3PVE"
      },
      "source": [
        "#Model training"
      ]
    },
    {
      "cell_type": "code",
      "metadata": {
        "id": "QXXCdw783VNX",
        "colab": {
          "base_uri": "https://localhost:8080/"
        },
        "outputId": "7d1291af-87c7-48a9-a5f4-ce570e1534b2"
      },
      "source": [
        "model.compile(optimizer='adam', loss='sparse_categorical_crossentropy', metrics=['accuracy'])\n",
        "model.fit(training_images, training_labels, epochs=10)"
      ],
      "execution_count": 5,
      "outputs": [
        {
          "output_type": "stream",
          "name": "stdout",
          "text": [
            "Train on 60000 samples\n",
            "Epoch 1/10\n",
            "60000/60000 [==============================] - 33s 545us/sample - loss: 0.1507 - acc: 0.9544\n",
            "Epoch 2/10\n",
            "60000/60000 [==============================] - 33s 547us/sample - loss: 0.0502 - acc: 0.9852\n",
            "Epoch 3/10\n",
            "60000/60000 [==============================] - 32s 527us/sample - loss: 0.0320 - acc: 0.9900\n",
            "Epoch 4/10\n",
            "60000/60000 [==============================] - 33s 543us/sample - loss: 0.0208 - acc: 0.9933\n",
            "Epoch 5/10\n",
            "60000/60000 [==============================] - 31s 524us/sample - loss: 0.0133 - acc: 0.9961\n",
            "Epoch 6/10\n",
            "60000/60000 [==============================] - 33s 542us/sample - loss: 0.0107 - acc: 0.9966\n",
            "Epoch 7/10\n",
            "60000/60000 [==============================] - 31s 522us/sample - loss: 0.0074 - acc: 0.9977\n",
            "Epoch 8/10\n",
            "60000/60000 [==============================] - 33s 544us/sample - loss: 0.0056 - acc: 0.9982\n",
            "Epoch 9/10\n",
            "60000/60000 [==============================] - 32s 527us/sample - loss: 0.0066 - acc: 0.9980\n",
            "Epoch 10/10\n",
            "60000/60000 [==============================] - 32s 539us/sample - loss: 0.0040 - acc: 0.9984\n"
          ]
        },
        {
          "output_type": "execute_result",
          "data": {
            "text/plain": [
              "<keras.src.callbacks.History at 0x7d1331367520>"
            ]
          },
          "metadata": {},
          "execution_count": 5
        }
      ]
    },
    {
      "cell_type": "markdown",
      "metadata": {
        "id": "51YjudQv3bz_"
      },
      "source": [
        "#Evaluation with test data"
      ]
    },
    {
      "cell_type": "code",
      "metadata": {
        "id": "Mjp2-0eU3fjM",
        "colab": {
          "base_uri": "https://localhost:8080/"
        },
        "outputId": "fa41aaf8-84c4-4637-c4c7-d89762802236"
      },
      "source": [
        "test_loss, test_acc = model.evaluate(test_images, test_labels)\n",
        "print(test_acc)"
      ],
      "execution_count": 6,
      "outputs": [
        {
          "output_type": "stream",
          "name": "stderr",
          "text": [
            "/usr/local/lib/python3.10/dist-packages/keras/src/engine/training_v1.py:2335: UserWarning: `Model.state_updates` will be removed in a future version. This property should not be used in TensorFlow 2.0, as `updates` are applied automatically.\n",
            "  updates = self.state_updates\n"
          ]
        },
        {
          "output_type": "stream",
          "name": "stdout",
          "text": [
            "0.9857\n"
          ]
        }
      ]
    },
    {
      "cell_type": "code",
      "source": [],
      "metadata": {
        "id": "LRIN6KXVyeZc"
      },
      "execution_count": null,
      "outputs": []
    }
  ]
}