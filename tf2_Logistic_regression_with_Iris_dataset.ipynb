{
  "cells": [
    {
      "cell_type": "markdown",
      "metadata": {
        "id": "jF9k9TS0Ca3N"
      },
      "source": [
        "Google Colab note:\n",
        "- Check in which folder you are in"
      ]
    },
    {
      "cell_type": "code",
      "execution_count": 32,
      "metadata": {
        "colab": {
          "base_uri": "https://localhost:8080/"
        },
        "id": "_Y9GYepwBhxA",
        "outputId": "b3935e9e-9ccf-49a9-f091-de7fea5df734"
      },
      "outputs": [
        {
          "name": "stdout",
          "output_type": "stream",
          "text": [
            "/Users/andystevenson/Coding/Deep/A2\n"
          ]
        }
      ],
      "source": [
        "import os\n",
        "print(os.getcwd())"
      ]
    },
    {
      "cell_type": "markdown",
      "metadata": {
        "id": "eElp-pybCkd1"
      },
      "source": [
        "Upload the data file in that folder\n",
        "- It will be deleted after your session"
      ]
    },
    {
      "cell_type": "code",
      "execution_count": 33,
      "metadata": {
        "colab": {
          "base_uri": "https://localhost:8080/"
        },
        "id": "OiZjtWNLCxz3",
        "outputId": "9f49c5e2-4d84-446a-e109-40097eb3f210"
      },
      "outputs": [
        {
          "name": "stdout",
          "output_type": "stream",
          "text": [
            "2.15.0\n",
            "None\n"
          ]
        }
      ],
      "source": [
        "%matplotlib inline\n",
        "import numpy as np # linear algebra\n",
        "import pandas as pd # data processing, CSV file I/O (e.g. pd.read_csv)\n",
        "import matplotlib.pyplot as plt\n",
        "import tensorflow.compat.v1 as tf\n",
        "tf.disable_v2_behavior()\n",
        "print(print(tf.__version__))"
      ]
    },
    {
      "cell_type": "markdown",
      "metadata": {
        "id": "6CnhRXEtDWt_"
      },
      "source": [
        "#Read the data\n",
        "- From CSV to Pandas data frame"
      ]
    },
    {
      "cell_type": "code",
      "execution_count": 34,
      "metadata": {
        "id": "nYDZDt0nC_0c"
      },
      "outputs": [],
      "source": [
        "iris = pd.read_csv('Iris.csv')"
      ]
    },
    {
      "cell_type": "code",
      "execution_count": 35,
      "metadata": {
        "colab": {
          "base_uri": "https://localhost:8080/"
        },
        "id": "UQ0e6InXDS59",
        "outputId": "6c438e17-a9dc-468f-ce9d-122ed9552be1"
      },
      "outputs": [
        {
          "data": {
            "text/plain": [
              "(150, 6)"
            ]
          },
          "execution_count": 35,
          "metadata": {},
          "output_type": "execute_result"
        }
      ],
      "source": [
        "iris.shape"
      ]
    },
    {
      "cell_type": "code",
      "execution_count": 36,
      "metadata": {
        "colab": {
          "base_uri": "https://localhost:8080/",
          "height": 206
        },
        "id": "NIP1foAIDUoo",
        "outputId": "feb70ca4-5f9d-4eae-87d8-788108e7b2ec"
      },
      "outputs": [
        {
          "data": {
            "text/html": [
              "<div>\n",
              "<style scoped>\n",
              "    .dataframe tbody tr th:only-of-type {\n",
              "        vertical-align: middle;\n",
              "    }\n",
              "\n",
              "    .dataframe tbody tr th {\n",
              "        vertical-align: top;\n",
              "    }\n",
              "\n",
              "    .dataframe thead th {\n",
              "        text-align: right;\n",
              "    }\n",
              "</style>\n",
              "<table border=\"1\" class=\"dataframe\">\n",
              "  <thead>\n",
              "    <tr style=\"text-align: right;\">\n",
              "      <th></th>\n",
              "      <th>Id</th>\n",
              "      <th>SepalLengthCm</th>\n",
              "      <th>SepalWidthCm</th>\n",
              "      <th>PetalLengthCm</th>\n",
              "      <th>PetalWidthCm</th>\n",
              "      <th>Species</th>\n",
              "    </tr>\n",
              "  </thead>\n",
              "  <tbody>\n",
              "    <tr>\n",
              "      <th>0</th>\n",
              "      <td>1</td>\n",
              "      <td>5.1</td>\n",
              "      <td>3.5</td>\n",
              "      <td>1.4</td>\n",
              "      <td>0.2</td>\n",
              "      <td>Iris-setosa</td>\n",
              "    </tr>\n",
              "    <tr>\n",
              "      <th>1</th>\n",
              "      <td>2</td>\n",
              "      <td>4.9</td>\n",
              "      <td>3.0</td>\n",
              "      <td>1.4</td>\n",
              "      <td>0.2</td>\n",
              "      <td>Iris-setosa</td>\n",
              "    </tr>\n",
              "    <tr>\n",
              "      <th>2</th>\n",
              "      <td>3</td>\n",
              "      <td>4.7</td>\n",
              "      <td>3.2</td>\n",
              "      <td>1.3</td>\n",
              "      <td>0.2</td>\n",
              "      <td>Iris-setosa</td>\n",
              "    </tr>\n",
              "    <tr>\n",
              "      <th>3</th>\n",
              "      <td>4</td>\n",
              "      <td>4.6</td>\n",
              "      <td>3.1</td>\n",
              "      <td>1.5</td>\n",
              "      <td>0.2</td>\n",
              "      <td>Iris-setosa</td>\n",
              "    </tr>\n",
              "    <tr>\n",
              "      <th>4</th>\n",
              "      <td>5</td>\n",
              "      <td>5.0</td>\n",
              "      <td>3.6</td>\n",
              "      <td>1.4</td>\n",
              "      <td>0.2</td>\n",
              "      <td>Iris-setosa</td>\n",
              "    </tr>\n",
              "  </tbody>\n",
              "</table>\n",
              "</div>"
            ],
            "text/plain": [
              "   Id  SepalLengthCm  SepalWidthCm  PetalLengthCm  PetalWidthCm      Species\n",
              "0   1            5.1           3.5            1.4           0.2  Iris-setosa\n",
              "1   2            4.9           3.0            1.4           0.2  Iris-setosa\n",
              "2   3            4.7           3.2            1.3           0.2  Iris-setosa\n",
              "3   4            4.6           3.1            1.5           0.2  Iris-setosa\n",
              "4   5            5.0           3.6            1.4           0.2  Iris-setosa"
            ]
          },
          "execution_count": 36,
          "metadata": {},
          "output_type": "execute_result"
        }
      ],
      "source": [
        "iris.head()"
      ]
    },
    {
      "cell_type": "markdown",
      "metadata": {
        "id": "IraXKesfElz2"
      },
      "source": [
        "#Features\n",
        "- Column 1 : id\n",
        "- Columns 2 - 5: features/attributes\n",
        "- Column 6: label"
      ]
    },
    {
      "cell_type": "markdown",
      "metadata": {
        "id": "tDwEeG5xDyk_"
      },
      "source": [
        "We will to do a binary classification, so we will keep the first 100 rows of data\n",
        "\n",
        "Iris-setosa species is linearly separable from the other two, but the other two are not linearly separable from each other.To keep the species blance Iris-setosa and Iris-versicolor are choosen"
      ]
    },
    {
      "cell_type": "code",
      "execution_count": 37,
      "metadata": {
        "id": "fed9o0YXVqwP"
      },
      "outputs": [],
      "source": [
        "iris = iris[:100]"
      ]
    },
    {
      "cell_type": "markdown",
      "metadata": {
        "id": "668Dp3PlEHnF"
      },
      "source": [
        "#Covert the string lables to numerals"
      ]
    },
    {
      "cell_type": "code",
      "execution_count": 38,
      "metadata": {
        "id": "51baCEy_Dx2t"
      },
      "outputs": [
        {
          "name": "stderr",
          "output_type": "stream",
          "text": [
            "/var/folders/q6/6myx3h_j5cx4ywkkrst_bh7c0000gn/T/ipykernel_3072/3659020958.py:1: FutureWarning: Downcasting behavior in `replace` is deprecated and will be removed in a future version. To retain the old behavior, explicitly call `result.infer_objects(copy=False)`. To opt-in to the future behavior, set `pd.set_option('future.no_silent_downcasting', True)`\n",
            "  iris.Species = iris.Species.replace(to_replace=['Iris-setosa', 'Iris-versicolor'], value=[0, 1])\n"
          ]
        }
      ],
      "source": [
        "iris.Species = iris.Species.replace(to_replace=['Iris-setosa', 'Iris-versicolor'], value=[0, 1])"
      ]
    },
    {
      "cell_type": "markdown",
      "metadata": {
        "id": "4svOpInXEY-x"
      },
      "source": [
        "#Visualize two class examples in 2D space\n",
        "- We simply select first two features"
      ]
    },
    {
      "cell_type": "code",
      "execution_count": 39,
      "metadata": {
        "colab": {
          "base_uri": "https://localhost:8080/",
          "height": 469
        },
        "id": "RK111QlGDp5p",
        "outputId": "432f25d7-bcfe-4707-bb71-82e9ee03d96f"
      },
      "outputs": [
        {
          "data": {
            "text/plain": [
              "<matplotlib.legend.Legend at 0x132bfb8b0>"
            ]
          },
          "execution_count": 39,
          "metadata": {},
          "output_type": "execute_result"
        },
        {
          "data": {
            "image/png": "[encoded data removed]",
            "text/plain": [
              "<Figure size 640x480 with 1 Axes>"
            ]
          },
          "metadata": {},
          "output_type": "display_data"
        }
      ],
      "source": [
        "plt.scatter(iris[:50].SepalLengthCm, iris[:50].SepalWidthCm, label='Iris-setosa')\n",
        "plt.scatter(iris[51:].SepalLengthCm, iris[51:].SepalWidthCm, label='Iris-versicolo')\n",
        "plt.xlabel('SepalLength')\n",
        "plt.ylabel('SepalWidth')\n",
        "plt.legend(loc='best')"
      ]
    },
    {
      "cell_type": "markdown",
      "metadata": {
        "id": "Od8-d73gFYmY"
      },
      "source": [
        "#Define X and y"
      ]
    },
    {
      "cell_type": "code",
      "execution_count": 40,
      "metadata": {
        "colab": {
          "base_uri": "https://localhost:8080/"
        },
        "id": "HZ4jczn9FP8H",
        "outputId": "de916922-064a-4883-d782-266384fc7eba"
      },
      "outputs": [
        {
          "name": "stdout",
          "output_type": "stream",
          "text": [
            "X shape:  (100, 4) y shape:  (100,)\n",
            "Number of total examples:  100  Number of features:  4\n"
          ]
        }
      ],
      "source": [
        "X = iris.drop(labels=['Id', 'Species'], axis=1).values\n",
        "y = iris.Species.values\n",
        "print(\"X shape: \", X.shape, \"y shape: \", y.shape)\n",
        "(m,n) = X.shape\n",
        "print(\"Number of total examples: \", m, \" Number of features: \", n)\n"
      ]
    },
    {
      "cell_type": "markdown",
      "metadata": {
        "id": "wCJu5CiYF_QO"
      },
      "source": [
        "#Split data\n",
        "- Train:test (70%:30%)\n",
        "- Initializing the random seeds to regenerate the outputs"
      ]
    },
    {
      "cell_type": "code",
      "execution_count": 41,
      "metadata": {
        "id": "oRKsQFIEFm0_"
      },
      "outputs": [],
      "source": [
        "seed = 5\n",
        "np.random.seed(seed)\n",
        "tf.set_random_seed(seed)\n",
        "train_index = np.random.choice(len(X), round(len(X) * 0.7), replace=False)"
      ]
    },
    {
      "cell_type": "code",
      "execution_count": 42,
      "metadata": {
        "id": "NXc9YrS4IyAk"
      },
      "outputs": [],
      "source": [
        "# diff set\n",
        "test_index = np.array(list(set(range(len(X))) - set(train_index)))\n",
        "X_train = X[train_index]\n",
        "y_train = y[train_index]\n",
        "X_test = X[test_index]\n",
        "y_test = y[test_index]"
      ]
    },
    {
      "cell_type": "markdown",
      "metadata": {
        "id": "IACn0rCQJbnu"
      },
      "source": [
        "#Normalize\n",
        "- Z normalization: feature_value-mean(feature)/standard_deviation(feature)\n",
        "- Min/max normalization: feature_value - min(feature)/max(feature)-min(feature)\n"
      ]
    },
    {
      "cell_type": "code",
      "execution_count": 43,
      "metadata": {
        "id": "tso_5M3xJMbD"
      },
      "outputs": [],
      "source": [
        "def minmax_normalization(feature_data):\n",
        "  min_val = np.min(feature_data, axis=0)\n",
        "  max_val = np.max(feature_data, axis=0)\n",
        "  return (feature_data - min_val) / (max_val - min_val)"
      ]
    },
    {
      "cell_type": "code",
      "execution_count": 44,
      "metadata": {
        "id": "D3h--UQJK9Es"
      },
      "outputs": [],
      "source": [
        "# z normalize\n",
        "X_train = minmax_normalization(X_train)\n",
        "X_test = minmax_normalization(X_test)"
      ]
    },
    {
      "cell_type": "markdown",
      "metadata": {
        "id": "_2biG3vULiQw"
      },
      "source": [
        "#Weight and bias initialization"
      ]
    },
    {
      "cell_type": "code",
      "execution_count": 45,
      "metadata": {
        "id": "2B_bg8vGLKjo"
      },
      "outputs": [],
      "source": [
        "W = tf.Variable(tf.random.normal(shape=[n, 1]))\n",
        "b = tf.Variable(tf.random.normal(shape=[1, 1]))\n",
        "init = tf.global_variables_initializer()\n",
        "sess = tf.Session()\n",
        "sess.run(init)"
      ]
    },
    {
      "cell_type": "markdown",
      "metadata": {
        "id": "adA0kkYIOB1B"
      },
      "source": [
        "#Defining the placeholders"
      ]
    },
    {
      "cell_type": "code",
      "execution_count": 46,
      "metadata": {
        "id": "8yYkIeR3LuEi"
      },
      "outputs": [],
      "source": [
        "data = tf.placeholder(dtype=tf.float32, shape=[None, n])\n",
        "target = tf.placeholder(dtype=tf.float32, shape=[None, 1])"
      ]
    },
    {
      "cell_type": "markdown",
      "metadata": {
        "id": "mY3ceyJSRo4W"
      },
      "source": [
        "#Model definition"
      ]
    },
    {
      "cell_type": "code",
      "execution_count": 47,
      "metadata": {
        "id": "HXyV3AM9OJFQ"
      },
      "outputs": [],
      "source": [
        "mod = tf.matmul(data, W) + b"
      ]
    },
    {
      "cell_type": "markdown",
      "metadata": {
        "id": "7-3peh-tR6tT"
      },
      "source": [
        "#Define loss function"
      ]
    },
    {
      "cell_type": "code",
      "execution_count": 48,
      "metadata": {
        "id": "cEMUdntNR0fO"
      },
      "outputs": [],
      "source": [
        "#first doing a sigmoid on the model result and then using the cross-entropy loss function\n",
        "loss = tf.reduce_mean(tf.nn.sigmoid_cross_entropy_with_logits(logits=mod, labels=target))"
      ]
    },
    {
      "cell_type": "markdown",
      "metadata": {
        "id": "y0yVSC-8SghT"
      },
      "source": [
        "#Initialize hyperparameters\n",
        "- Batch size\n",
        "- Learning rate\n",
        "- Number of iterations"
      ]
    },
    {
      "cell_type": "code",
      "execution_count": 49,
      "metadata": {
        "id": "JrXjcparSVPr"
      },
      "outputs": [],
      "source": [
        "learning_rate = 0.01\n",
        "batch_size = 20\n",
        "iter_num = 500"
      ]
    },
    {
      "cell_type": "markdown",
      "metadata": {
        "id": "baFTs-tQSlX0"
      },
      "source": [
        "#Define the optimizer"
      ]
    },
    {
      "cell_type": "code",
      "execution_count": 50,
      "metadata": {
        "id": "GkxBbUK_SEMd"
      },
      "outputs": [],
      "source": [
        "opt = tf.train.GradientDescentOptimizer(learning_rate)"
      ]
    },
    {
      "cell_type": "markdown",
      "metadata": {
        "id": "KTr35U13SyHW"
      },
      "source": [
        "#Define the goal\n",
        "- minimize the defined loss"
      ]
    },
    {
      "cell_type": "code",
      "execution_count": 51,
      "metadata": {
        "id": "FbHEFwBNSw3A"
      },
      "outputs": [],
      "source": [
        "goal = opt.minimize(loss)"
      ]
    },
    {
      "cell_type": "markdown",
      "metadata": {
        "id": "3uRr4Z6_S6Qm"
      },
      "source": [
        "#Define accuracy"
      ]
    },
    {
      "cell_type": "code",
      "execution_count": 52,
      "metadata": {
        "id": "us409vhQTCfd"
      },
      "outputs": [],
      "source": [
        "# The default threshold of sigmoid is 0.5, rounded off directly\n",
        "prediction = tf.round(tf.sigmoid(mod))\n",
        "# Bool into float32 type\n",
        "correct = tf.cast(tf.equal(prediction, target), dtype=tf.float32)\n",
        "# Average\n",
        "accuracy = tf.reduce_mean(correct)\n",
        "# End of the definition of the model framework"
      ]
    },
    {
      "cell_type": "markdown",
      "metadata": {
        "id": "ZpTdZ6CvTMkB"
      },
      "source": [
        "# Initialize variables that analyze learning progress"
      ]
    },
    {
      "cell_type": "code",
      "execution_count": 53,
      "metadata": {
        "id": "e_BlmE26TLvj"
      },
      "outputs": [],
      "source": [
        "loss_trace = []\n",
        "train_acc = []\n",
        "test_acc = []"
      ]
    },
    {
      "cell_type": "markdown",
      "metadata": {
        "id": "fT8jx1TiTY83"
      },
      "source": [
        "#Training"
      ]
    },
    {
      "cell_type": "code",
      "execution_count": 54,
      "metadata": {
        "colab": {
          "base_uri": "https://localhost:8080/"
        },
        "id": "qYNCBIVtS5XS",
        "outputId": "8ef91030-3174-48ef-e685-11cac5b5a340"
      },
      "outputs": [
        {
          "name": "stdout",
          "output_type": "stream",
          "text": [
            "epoch:   10 loss: 0.319162 train_acc: 0.842857 test_acc: 0.700000\n",
            "epoch:   20 loss: 0.371079 train_acc: 0.857143 test_acc: 0.766667\n",
            "epoch:   30 loss: 0.230025 train_acc: 0.857143 test_acc: 0.766667\n",
            "epoch:   40 loss: 0.262964 train_acc: 0.857143 test_acc: 0.800000\n",
            "epoch:   50 loss: 0.279963 train_acc: 0.857143 test_acc: 0.800000\n",
            "epoch:   60 loss: 0.535808 train_acc: 0.871429 test_acc: 0.800000\n",
            "epoch:   70 loss: 0.307252 train_acc: 0.871429 test_acc: 0.800000\n",
            "epoch:   80 loss: 0.243100 train_acc: 0.871429 test_acc: 0.800000\n",
            "epoch:   90 loss: 0.215138 train_acc: 0.871429 test_acc: 0.800000\n"
          ]
        },
        {
          "name": "stdout",
          "output_type": "stream",
          "text": [
            "epoch:  100 loss: 0.335084 train_acc: 0.871429 test_acc: 0.800000\n",
            "epoch:  110 loss: 0.095178 train_acc: 0.871429 test_acc: 0.800000\n",
            "epoch:  120 loss: 0.127121 train_acc: 0.871429 test_acc: 0.833333\n",
            "epoch:  130 loss: 0.257181 train_acc: 0.871429 test_acc: 0.833333\n",
            "epoch:  140 loss: 0.121665 train_acc: 0.871429 test_acc: 0.833333\n",
            "epoch:  150 loss: 0.123987 train_acc: 0.871429 test_acc: 0.833333\n",
            "epoch:  160 loss: 0.320581 train_acc: 0.885714 test_acc: 0.833333\n",
            "epoch:  170 loss: 0.104340 train_acc: 0.885714 test_acc: 0.833333\n",
            "epoch:  180 loss: 0.240974 train_acc: 0.900000 test_acc: 0.866667\n",
            "epoch:  190 loss: 0.204127 train_acc: 0.914286 test_acc: 0.900000\n",
            "epoch:  200 loss: 0.179031 train_acc: 0.914286 test_acc: 0.900000\n",
            "epoch:  210 loss: 0.257949 train_acc: 0.928571 test_acc: 0.900000\n",
            "epoch:  220 loss: 0.177074 train_acc: 0.928571 test_acc: 0.900000\n",
            "epoch:  230 loss: 0.121489 train_acc: 0.928571 test_acc: 0.900000\n",
            "epoch:  240 loss: 0.093147 train_acc: 0.928571 test_acc: 0.933333\n",
            "epoch:  250 loss: 0.078016 train_acc: 0.928571 test_acc: 0.933333\n",
            "epoch:  260 loss: 0.236530 train_acc: 0.928571 test_acc: 0.933333\n",
            "epoch:  270 loss: 0.143036 train_acc: 0.928571 test_acc: 0.933333\n",
            "epoch:  280 loss: 0.199031 train_acc: 0.928571 test_acc: 0.933333\n",
            "epoch:  290 loss: 0.061546 train_acc: 0.942857 test_acc: 0.933333\n",
            "epoch:  300 loss: 0.145596 train_acc: 0.942857 test_acc: 0.933333\n",
            "epoch:  310 loss: 0.066672 train_acc: 0.957143 test_acc: 0.933333\n",
            "epoch:  320 loss: 0.287237 train_acc: 0.957143 test_acc: 0.933333\n",
            "epoch:  330 loss: 0.100097 train_acc: 0.957143 test_acc: 0.933333\n",
            "epoch:  340 loss: 0.131848 train_acc: 0.957143 test_acc: 0.933333\n",
            "epoch:  350 loss: 0.172978 train_acc: 0.957143 test_acc: 0.933333\n",
            "epoch:  360 loss: 0.038680 train_acc: 0.957143 test_acc: 0.933333\n",
            "epoch:  370 loss: 0.081290 train_acc: 0.971429 test_acc: 0.933333\n",
            "epoch:  380 loss: 0.072809 train_acc: 0.971429 test_acc: 0.933333\n",
            "epoch:  390 loss: 0.080874 train_acc: 0.971429 test_acc: 0.933333\n",
            "epoch:  400 loss: 0.057028 train_acc: 0.971429 test_acc: 0.966667\n",
            "epoch:  410 loss: 0.117021 train_acc: 0.971429 test_acc: 0.966667\n",
            "epoch:  420 loss: 0.067705 train_acc: 0.971429 test_acc: 1.000000\n",
            "epoch:  430 loss: 0.054772 train_acc: 0.971429 test_acc: 1.000000\n",
            "epoch:  440 loss: 0.086153 train_acc: 0.971429 test_acc: 1.000000\n",
            "epoch:  450 loss: 0.124233 train_acc: 0.971429 test_acc: 1.000000\n",
            "epoch:  460 loss: 0.099694 train_acc: 0.971429 test_acc: 1.000000\n",
            "epoch:  470 loss: 0.027059 train_acc: 0.971429 test_acc: 1.000000\n",
            "epoch:  480 loss: 0.033607 train_acc: 0.971429 test_acc: 1.000000\n",
            "epoch:  490 loss: 0.190903 train_acc: 0.971429 test_acc: 1.000000\n",
            "epoch:  500 loss: 0.066657 train_acc: 0.971429 test_acc: 1.000000\n"
          ]
        }
      ],
      "source": [
        "for epoch in range(iter_num):\n",
        "  # Generate random batch index\n",
        "  batch_index = np.random.choice(len(X_train), size=batch_size)\n",
        "  batch_X_train = X_train[batch_index]\n",
        "  batch_y_train = np.matrix(y_train[batch_index]).T\n",
        "  sess.run(goal, feed_dict={data: batch_X_train, target: batch_y_train})\n",
        "  temp_loss = sess.run(loss, feed_dict={data: batch_X_train, target: batch_y_train})\n",
        "  temp_train_acc = sess.run(accuracy, feed_dict={data: X_train, target: np.matrix(y_train).T})\n",
        "  temp_test_acc = sess.run(accuracy, feed_dict={data: X_test, target: np.matrix(y_test).T})\n",
        "  loss_trace.append(temp_loss)\n",
        "  train_acc.append(temp_train_acc)\n",
        "  test_acc.append(temp_test_acc)\n",
        "  if (epoch + 1) % 10 == 0:\n",
        "    print('epoch: {:4d} loss: {:5f} train_acc: {:5f} test_acc: {:5f}'.format(epoch + 1, temp_loss, temp_train_acc, temp_test_acc))\n"
      ]
    },
    {
      "cell_type": "markdown",
      "metadata": {
        "id": "pNB7uAHAXLLs"
      },
      "source": [
        "#Visualization of the loss function"
      ]
    },
    {
      "cell_type": "code",
      "execution_count": 55,
      "metadata": {
        "colab": {
          "base_uri": "https://localhost:8080/",
          "height": 472
        },
        "id": "sb5Sq_anUnzh",
        "outputId": "6fb53068-22dc-4e85-8ea8-d8b893a1f1a9"
      },
      "outputs": [
        {
          "data": {
            "image/png": "[encoded data removed]",
            "text/plain": [
              "<Figure size 640x480 with 1 Axes>"
            ]
          },
          "metadata": {},
          "output_type": "display_data"
        }
      ],
      "source": [
        "\n",
        "plt.plot(loss_trace)\n",
        "plt.title('Cross Entropy Loss')\n",
        "plt.xlabel('epoch')\n",
        "plt.ylabel('loss')\n",
        "plt.show()"
      ]
    },
    {
      "cell_type": "markdown",
      "metadata": {
        "id": "FcOjBmpKndBT"
      },
      "source": [
        "#Train and test accuracy visualization"
      ]
    },
    {
      "cell_type": "code",
      "execution_count": 56,
      "metadata": {
        "colab": {
          "base_uri": "https://localhost:8080/",
          "height": 472
        },
        "id": "oqud1_gRWrGf",
        "outputId": "fca7ca7e-914e-446e-8754-aed55c7f39a9"
      },
      "outputs": [
        {
          "data": {
            "image/png": "[encoded data removed]",
            "text/plain": [
              "<Figure size 640x480 with 1 Axes>"
            ]
          },
          "metadata": {},
          "output_type": "display_data"
        }
      ],
      "source": [
        "\n",
        "plt.plot(train_acc, 'b-', label='train accuracy')\n",
        "plt.plot(test_acc, 'k-', label='test accuracy')\n",
        "plt.xlabel('epoch')\n",
        "plt.ylabel('accuracy')\n",
        "plt.title('Train and Test Accuracy')\n",
        "plt.legend(loc='best')\n",
        "plt.show()"
      ]
    },
    {
      "cell_type": "code",
      "execution_count": null,
      "metadata": {
        "id": "X3Oj1d7kv0Sm"
      },
      "outputs": [],
      "source": []
    }
  ],
  "metadata": {
    "colab": {
      "provenance": []
    },
    "kernelspec": {
      "display_name": "Python 3",
      "name": "python3"
    },
    "language_info": {
      "codemirror_mode": {
        "name": "ipython",
        "version": 3
      },
      "file_extension": ".py",
      "mimetype": "text/x-python",
      "name": "python",
      "nbconvert_exporter": "python",
      "pygments_lexer": "ipython3",
      "version": "3.9.6"
    }
  },
  "nbformat": 4,
  "nbformat_minor": 0
}
