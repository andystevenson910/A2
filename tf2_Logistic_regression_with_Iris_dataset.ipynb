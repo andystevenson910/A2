{
  "nbformat": 4,
  "nbformat_minor": 0,
  "metadata": {
    "colab": {
      "provenance": []
    },
    "kernelspec": {
      "name": "python3",
      "display_name": "Python 3"
    }
  },
  "cells": [
    {
      "cell_type": "markdown",
      "metadata": {
        "id": "jF9k9TS0Ca3N"
      },
      "source": [
        "Google Colab note:\n",
        "- Check in which folder you are in"
      ]
    },
    {
      "cell_type": "code",
      "metadata": {
        "id": "_Y9GYepwBhxA",
        "outputId": "b3935e9e-9ccf-49a9-f091-de7fea5df734",
        "colab": {
          "base_uri": "https://localhost:8080/"
        }
      },
      "source": [
        "import os\n",
        "print(os.getcwd())"
      ],
      "execution_count": 1,
      "outputs": [
        {
          "output_type": "stream",
          "name": "stdout",
          "text": [
            "/content\n"
          ]
        }
      ]
    },
    {
      "cell_type": "markdown",
      "metadata": {
        "id": "eElp-pybCkd1"
      },
      "source": [
        "Upload the data file in that folder\n",
        "- It will be deleted after your session"
      ]
    },
    {
      "cell_type": "code",
      "metadata": {
        "id": "OiZjtWNLCxz3",
        "outputId": "9f49c5e2-4d84-446a-e109-40097eb3f210",
        "colab": {
          "base_uri": "https://localhost:8080/"
        }
      },
      "source": [
        "%matplotlib inline\n",
        "import numpy as np # linear algebra\n",
        "import pandas as pd # data processing, CSV file I/O (e.g. pd.read_csv)\n",
        "import matplotlib.pyplot as plt\n",
        "import tensorflow.compat.v1 as tf\n",
        "tf.disable_v2_behavior()\n",
        "print(print(tf.__version__))"
      ],
      "execution_count": 2,
      "outputs": [
        {
          "output_type": "stream",
          "name": "stderr",
          "text": [
            "WARNING:tensorflow:From /usr/local/lib/python3.10/dist-packages/tensorflow/python/compat/v2_compat.py:108: disable_resource_variables (from tensorflow.python.ops.variable_scope) is deprecated and will be removed in a future version.\n",
            "Instructions for updating:\n",
            "non-resource variables are not supported in the long term\n"
          ]
        },
        {
          "output_type": "stream",
          "name": "stdout",
          "text": [
            "2.15.0\n",
            "None\n"
          ]
        }
      ]
    },
    {
      "cell_type": "markdown",
      "metadata": {
        "id": "6CnhRXEtDWt_"
      },
      "source": [
        "#Read the data\n",
        "- From CSV to Pandas data frame"
      ]
    },
    {
      "cell_type": "code",
      "metadata": {
        "id": "nYDZDt0nC_0c"
      },
      "source": [
        "iris = pd.read_csv('Iris.csv')"
      ],
      "execution_count": 4,
      "outputs": []
    },
    {
      "cell_type": "code",
      "metadata": {
        "id": "UQ0e6InXDS59",
        "outputId": "6c438e17-a9dc-468f-ce9d-122ed9552be1",
        "colab": {
          "base_uri": "https://localhost:8080/"
        }
      },
      "source": [
        "iris.shape"
      ],
      "execution_count": 5,
      "outputs": [
        {
          "output_type": "execute_result",
          "data": {
            "text/plain": [
              "(150, 6)"
            ]
          },
          "metadata": {},
          "execution_count": 5
        }
      ]
    },
    {
      "cell_type": "code",
      "metadata": {
        "id": "NIP1foAIDUoo",
        "outputId": "feb70ca4-5f9d-4eae-87d8-788108e7b2ec",
        "colab": {
          "base_uri": "https://localhost:8080/",
          "height": 206
        }
      },
      "source": [
        "iris.head()"
      ],
      "execution_count": 6,
      "outputs": [
        {
          "output_type": "execute_result",
          "data": {
            "text/plain": [
              "   Id  SepalLengthCm  SepalWidthCm  PetalLengthCm  PetalWidthCm      Species\n",
              "0   1            5.1           3.5            1.4           0.2  Iris-setosa\n",
              "1   2            4.9           3.0            1.4           0.2  Iris-setosa\n",
              "2   3            4.7           3.2            1.3           0.2  Iris-setosa\n",
              "3   4            4.6           3.1            1.5           0.2  Iris-setosa\n",
              "4   5            5.0           3.6            1.4           0.2  Iris-setosa"
            ],
            "text/html": [
              "\n",
              "  <div id=\"df-136eddec-f5df-43f1-a49c-4f0188bdb90a\" class=\"colab-df-container\">\n",
              "    <div>\n",
              "<style scoped>\n",
              "    .dataframe tbody tr th:only-of-type {\n",
              "        vertical-align: middle;\n",
              "    }\n",
              "\n",
              "    .dataframe tbody tr th {\n",
              "        vertical-align: top;\n",
              "    }\n",
              "\n",
              "    .dataframe thead th {\n",
              "        text-align: right;\n",
              "    }\n",
              "</style>\n",
              "<table border=\"1\" class=\"dataframe\">\n",
              "  <thead>\n",
              "    <tr style=\"text-align: right;\">\n",
              "      <th></th>\n",
              "      <th>Id</th>\n",
              "      <th>SepalLengthCm</th>\n",
              "      <th>SepalWidthCm</th>\n",
              "      <th>PetalLengthCm</th>\n",
              "      <th>PetalWidthCm</th>\n",
              "      <th>Species</th>\n",
              "    </tr>\n",
              "  </thead>\n",
              "  <tbody>\n",
              "    <tr>\n",
              "      <th>0</th>\n",
              "      <td>1</td>\n",
              "      <td>5.1</td>\n",
              "      <td>3.5</td>\n",
              "      <td>1.4</td>\n",
              "      <td>0.2</td>\n",
              "      <td>Iris-setosa</td>\n",
              "    </tr>\n",
              "    <tr>\n",
              "      <th>1</th>\n",
              "      <td>2</td>\n",
              "      <td>4.9</td>\n",
              "      <td>3.0</td>\n",
              "      <td>1.4</td>\n",
              "      <td>0.2</td>\n",
              "      <td>Iris-setosa</td>\n",
              "    </tr>\n",
              "    <tr>\n",
              "      <th>2</th>\n",
              "      <td>3</td>\n",
              "      <td>4.7</td>\n",
              "      <td>3.2</td>\n",
              "      <td>1.3</td>\n",
              "      <td>0.2</td>\n",
              "      <td>Iris-setosa</td>\n",
              "    </tr>\n",
              "    <tr>\n",
              "      <th>3</th>\n",
              "      <td>4</td>\n",
              "      <td>4.6</td>\n",
              "      <td>3.1</td>\n",
              "      <td>1.5</td>\n",
              "      <td>0.2</td>\n",
              "      <td>Iris-setosa</td>\n",
              "    </tr>\n",
              "    <tr>\n",
              "      <th>4</th>\n",
              "      <td>5</td>\n",
              "      <td>5.0</td>\n",
              "      <td>3.6</td>\n",
              "      <td>1.4</td>\n",
              "      <td>0.2</td>\n",
              "      <td>Iris-setosa</td>\n",
              "    </tr>\n",
              "  </tbody>\n",
              "</table>\n",
              "</div>\n",
              "    <div class=\"colab-df-buttons\">\n",
              "\n",
              "  <div class=\"colab-df-container\">\n",
              "    <button class=\"colab-df-convert\" onclick=\"convertToInteractive('df-136eddec-f5df-43f1-a49c-4f0188bdb90a')\"\n",
              "            title=\"Convert this dataframe to an interactive table.\"\n",
              "            style=\"display:none;\">\n",
              "\n",
              "  <svg xmlns=\"http://www.w3.org/2000/svg\" height=\"24px\" viewBox=\"0 -960 960 960\">\n",
              "    <path d=\"M120-120v-720h720v720H120Zm60-500h600v-160H180v160Zm220 220h160v-160H400v160Zm0 220h160v-160H400v160ZM180-400h160v-160H180v160Zm440 0h160v-160H620v160ZM180-180h160v-160H180v160Zm440 0h160v-160H620v160Z\"/>\n",
              "  </svg>\n",
              "    </button>\n",
              "\n",
              "  <style>\n",
              "    .colab-df-container {\n",
              "      display:flex;\n",
              "      gap: 12px;\n",
              "    }\n",
              "\n",
              "    .colab-df-convert {\n",
              "      background-color: #E8F0FE;\n",
              "      border: none;\n",
              "      border-radius: 50%;\n",
              "      cursor: pointer;\n",
              "      display: none;\n",
              "      fill: #1967D2;\n",
              "      height: 32px;\n",
              "      padding: 0 0 0 0;\n",
              "      width: 32px;\n",
              "    }\n",
              "\n",
              "    .colab-df-convert:hover {\n",
              "      background-color: #E2EBFA;\n",
              "      box-shadow: 0px 1px 2px rgba(60, 64, 67, 0.3), 0px 1px 3px 1px rgba(60, 64, 67, 0.15);\n",
              "      fill: #174EA6;\n",
              "    }\n",
              "\n",
              "    .colab-df-buttons div {\n",
              "      margin-bottom: 4px;\n",
              "    }\n",
              "\n",
              "    [theme=dark] .colab-df-convert {\n",
              "      background-color: #3B4455;\n",
              "      fill: #D2E3FC;\n",
              "    }\n",
              "\n",
              "    [theme=dark] .colab-df-convert:hover {\n",
              "      background-color: #434B5C;\n",
              "      box-shadow: 0px 1px 3px 1px rgba(0, 0, 0, 0.15);\n",
              "      filter: drop-shadow(0px 1px 2px rgba(0, 0, 0, 0.3));\n",
              "      fill: #FFFFFF;\n",
              "    }\n",
              "  </style>\n",
              "\n",
              "    <script>\n",
              "      const buttonEl =\n",
              "        document.querySelector('#df-136eddec-f5df-43f1-a49c-4f0188bdb90a button.colab-df-convert');\n",
              "      buttonEl.style.display =\n",
              "        google.colab.kernel.accessAllowed ? 'block' : 'none';\n",
              "\n",
              "      async function convertToInteractive(key) {\n",
              "        const element = document.querySelector('#df-136eddec-f5df-43f1-a49c-4f0188bdb90a');\n",
              "        const dataTable =\n",
              "          await google.colab.kernel.invokeFunction('convertToInteractive',\n",
              "                                                    [key], {});\n",
              "        if (!dataTable) return;\n",
              "\n",
              "        const docLinkHtml = 'Like what you see? Visit the ' +\n",
              "          '<a target=\"_blank\" href=https://colab.research.google.com/notebooks/data_table.ipynb>data table notebook</a>'\n",
              "          + ' to learn more about interactive tables.';\n",
              "        element.innerHTML = '';\n",
              "        dataTable['output_type'] = 'display_data';\n",
              "        await google.colab.output.renderOutput(dataTable, element);\n",
              "        const docLink = document.createElement('div');\n",
              "        docLink.innerHTML = docLinkHtml;\n",
              "        element.appendChild(docLink);\n",
              "      }\n",
              "    </script>\n",
              "  </div>\n",
              "\n",
              "\n",
              "<div id=\"df-f624e257-e512-4c13-a5b3-963a1ec5bd7f\">\n",
              "  <button class=\"colab-df-quickchart\" onclick=\"quickchart('df-f624e257-e512-4c13-a5b3-963a1ec5bd7f')\"\n",
              "            title=\"Suggest charts\"\n",
              "            style=\"display:none;\">\n",
              "\n",
              "<svg xmlns=\"http://www.w3.org/2000/svg\" height=\"24px\"viewBox=\"0 0 24 24\"\n",
              "     width=\"24px\">\n",
              "    <g>\n",
              "        <path d=\"M19 3H5c-1.1 0-2 .9-2 2v14c0 1.1.9 2 2 2h14c1.1 0 2-.9 2-2V5c0-1.1-.9-2-2-2zM9 17H7v-7h2v7zm4 0h-2V7h2v10zm4 0h-2v-4h2v4z\"/>\n",
              "    </g>\n",
              "</svg>\n",
              "  </button>\n",
              "\n",
              "<style>\n",
              "  .colab-df-quickchart {\n",
              "      --bg-color: #E8F0FE;\n",
              "      --fill-color: #1967D2;\n",
              "      --hover-bg-color: #E2EBFA;\n",
              "      --hover-fill-color: #174EA6;\n",
              "      --disabled-fill-color: #AAA;\n",
              "      --disabled-bg-color: #DDD;\n",
              "  }\n",
              "\n",
              "  [theme=dark] .colab-df-quickchart {\n",
              "      --bg-color: #3B4455;\n",
              "      --fill-color: #D2E3FC;\n",
              "      --hover-bg-color: #434B5C;\n",
              "      --hover-fill-color: #FFFFFF;\n",
              "      --disabled-bg-color: #3B4455;\n",
              "      --disabled-fill-color: #666;\n",
              "  }\n",
              "\n",
              "  .colab-df-quickchart {\n",
              "    background-color: var(--bg-color);\n",
              "    border: none;\n",
              "    border-radius: 50%;\n",
              "    cursor: pointer;\n",
              "    display: none;\n",
              "    fill: var(--fill-color);\n",
              "    height: 32px;\n",
              "    padding: 0;\n",
              "    width: 32px;\n",
              "  }\n",
              "\n",
              "  .colab-df-quickchart:hover {\n",
              "    background-color: var(--hover-bg-color);\n",
              "    box-shadow: 0 1px 2px rgba(60, 64, 67, 0.3), 0 1px 3px 1px rgba(60, 64, 67, 0.15);\n",
              "    fill: var(--button-hover-fill-color);\n",
              "  }\n",
              "\n",
              "  .colab-df-quickchart-complete:disabled,\n",
              "  .colab-df-quickchart-complete:disabled:hover {\n",
              "    background-color: var(--disabled-bg-color);\n",
              "    fill: var(--disabled-fill-color);\n",
              "    box-shadow: none;\n",
              "  }\n",
              "\n",
              "  .colab-df-spinner {\n",
              "    border: 2px solid var(--fill-color);\n",
              "    border-color: transparent;\n",
              "    border-bottom-color: var(--fill-color);\n",
              "    animation:\n",
              "      spin 1s steps(1) infinite;\n",
              "  }\n",
              "\n",
              "  @keyframes spin {\n",
              "    0% {\n",
              "      border-color: transparent;\n",
              "      border-bottom-color: var(--fill-color);\n",
              "      border-left-color: var(--fill-color);\n",
              "    }\n",
              "    20% {\n",
              "      border-color: transparent;\n",
              "      border-left-color: var(--fill-color);\n",
              "      border-top-color: var(--fill-color);\n",
              "    }\n",
              "    30% {\n",
              "      border-color: transparent;\n",
              "      border-left-color: var(--fill-color);\n",
              "      border-top-color: var(--fill-color);\n",
              "      border-right-color: var(--fill-color);\n",
              "    }\n",
              "    40% {\n",
              "      border-color: transparent;\n",
              "      border-right-color: var(--fill-color);\n",
              "      border-top-color: var(--fill-color);\n",
              "    }\n",
              "    60% {\n",
              "      border-color: transparent;\n",
              "      border-right-color: var(--fill-color);\n",
              "    }\n",
              "    80% {\n",
              "      border-color: transparent;\n",
              "      border-right-color: var(--fill-color);\n",
              "      border-bottom-color: var(--fill-color);\n",
              "    }\n",
              "    90% {\n",
              "      border-color: transparent;\n",
              "      border-bottom-color: var(--fill-color);\n",
              "    }\n",
              "  }\n",
              "</style>\n",
              "\n",
              "  <script>\n",
              "    async function quickchart(key) {\n",
              "      const quickchartButtonEl =\n",
              "        document.querySelector('#' + key + ' button');\n",
              "      quickchartButtonEl.disabled = true;  // To prevent multiple clicks.\n",
              "      quickchartButtonEl.classList.add('colab-df-spinner');\n",
              "      try {\n",
              "        const charts = await google.colab.kernel.invokeFunction(\n",
              "            'suggestCharts', [key], {});\n",
              "      } catch (error) {\n",
              "        console.error('Error during call to suggestCharts:', error);\n",
              "      }\n",
              "      quickchartButtonEl.classList.remove('colab-df-spinner');\n",
              "      quickchartButtonEl.classList.add('colab-df-quickchart-complete');\n",
              "    }\n",
              "    (() => {\n",
              "      let quickchartButtonEl =\n",
              "        document.querySelector('#df-f624e257-e512-4c13-a5b3-963a1ec5bd7f button');\n",
              "      quickchartButtonEl.style.display =\n",
              "        google.colab.kernel.accessAllowed ? 'block' : 'none';\n",
              "    })();\n",
              "  </script>\n",
              "</div>\n",
              "\n",
              "    </div>\n",
              "  </div>\n"
            ],
            "application/vnd.google.colaboratory.intrinsic+json": {
              "type": "dataframe",
              "variable_name": "iris",
              "summary": "{\n  \"name\": \"iris\",\n  \"rows\": 150,\n  \"fields\": [\n    {\n      \"column\": \"Id\",\n      \"properties\": {\n        \"dtype\": \"number\",\n        \"std\": 43,\n        \"min\": 1,\n        \"max\": 150,\n        \"num_unique_values\": 150,\n        \"samples\": [\n          74,\n          19,\n          119\n        ],\n        \"semantic_type\": \"\",\n        \"description\": \"\"\n      }\n    },\n    {\n      \"column\": \"SepalLengthCm\",\n      \"properties\": {\n        \"dtype\": \"number\",\n        \"std\": 0.828066127977863,\n        \"min\": 4.3,\n        \"max\": 7.9,\n        \"num_unique_values\": 35,\n        \"samples\": [\n          6.2,\n          4.5,\n          5.6\n        ],\n        \"semantic_type\": \"\",\n        \"description\": \"\"\n      }\n    },\n    {\n      \"column\": \"SepalWidthCm\",\n      \"properties\": {\n        \"dtype\": \"number\",\n        \"std\": 0.4335943113621737,\n        \"min\": 2.0,\n        \"max\": 4.4,\n        \"num_unique_values\": 23,\n        \"samples\": [\n          2.3,\n          4.0,\n          3.5\n        ],\n        \"semantic_type\": \"\",\n        \"description\": \"\"\n      }\n    },\n    {\n      \"column\": \"PetalLengthCm\",\n      \"properties\": {\n        \"dtype\": \"number\",\n        \"std\": 1.7644204199522626,\n        \"min\": 1.0,\n        \"max\": 6.9,\n        \"num_unique_values\": 43,\n        \"samples\": [\n          6.7,\n          3.8,\n          3.7\n        ],\n        \"semantic_type\": \"\",\n        \"description\": \"\"\n      }\n    },\n    {\n      \"column\": \"PetalWidthCm\",\n      \"properties\": {\n        \"dtype\": \"number\",\n        \"std\": 0.7631607417008411,\n        \"min\": 0.1,\n        \"max\": 2.5,\n        \"num_unique_values\": 22,\n        \"samples\": [\n          0.2,\n          1.2,\n          1.3\n        ],\n        \"semantic_type\": \"\",\n        \"description\": \"\"\n      }\n    },\n    {\n      \"column\": \"Species\",\n      \"properties\": {\n        \"dtype\": \"category\",\n        \"num_unique_values\": 3,\n        \"samples\": [\n          \"Iris-setosa\",\n          \"Iris-versicolor\",\n          \"Iris-virginica\"\n        ],\n        \"semantic_type\": \"\",\n        \"description\": \"\"\n      }\n    }\n  ]\n}"
            }
          },
          "metadata": {},
          "execution_count": 6
        }
      ]
    },
    {
      "cell_type": "markdown",
      "metadata": {
        "id": "IraXKesfElz2"
      },
      "source": [
        "#Features\n",
        "- Column 1 : id\n",
        "- Columns 2 - 5: features/attributes\n",
        "- Column 6: label"
      ]
    },
    {
      "cell_type": "markdown",
      "metadata": {
        "id": "tDwEeG5xDyk_"
      },
      "source": [
        "We will to do a binary classification, so we will keep the first 100 rows of data\n",
        "\n",
        "Iris-setosa species is linearly separable from the other two, but the other two are not linearly separable from each other.To keep the species blance Iris-setosa and Iris-versicolor are choosen"
      ]
    },
    {
      "cell_type": "code",
      "metadata": {
        "id": "fed9o0YXVqwP"
      },
      "source": [
        "iris = iris[:100]"
      ],
      "execution_count": 7,
      "outputs": []
    },
    {
      "cell_type": "markdown",
      "metadata": {
        "id": "668Dp3PlEHnF"
      },
      "source": [
        "#Covert the string lables to numerals"
      ]
    },
    {
      "cell_type": "code",
      "metadata": {
        "id": "51baCEy_Dx2t"
      },
      "source": [
        "iris.Species = iris.Species.replace(to_replace=['Iris-setosa', 'Iris-versicolor'], value=[0, 1])"
      ],
      "execution_count": 8,
      "outputs": []
    },
    {
      "cell_type": "markdown",
      "metadata": {
        "id": "4svOpInXEY-x"
      },
      "source": [
        "#Visualize two class examples in 2D space\n",
        "- We simply select first two features"
      ]
    },
    {
      "cell_type": "code",
      "metadata": {
        "id": "RK111QlGDp5p",
        "outputId": "432f25d7-bcfe-4707-bb71-82e9ee03d96f",
        "colab": {
          "base_uri": "https://localhost:8080/",
          "height": 469
        }
      },
      "source": [
        "plt.scatter(iris[:50].SepalLengthCm, iris[:50].SepalWidthCm, label='Iris-setosa')\n",
        "plt.scatter(iris[51:].SepalLengthCm, iris[51:].SepalWidthCm, label='Iris-versicolo')\n",
        "plt.xlabel('SepalLength')\n",
        "plt.ylabel('SepalWidth')\n",
        "plt.legend(loc='best')"
      ],
      "execution_count": 9,
      "outputs": [
        {
          "output_type": "execute_result",
          "data": {
            "text/plain": [
              "<matplotlib.legend.Legend at 0x7809b5533880>"
            ]
          },
          "metadata": {},
          "execution_count": 9
        },
        {
          "output_type": "display_data",
          "data": {
            "text/plain": [
              "<Figure size 640x480 with 1 Axes>"
            ],
            "image/png": "[encoded data removed]"
          },
          "metadata": {}
        }
      ]
    },
    {
      "cell_type": "markdown",
      "metadata": {
        "id": "Od8-d73gFYmY"
      },
      "source": [
        "#Define X and y"
      ]
    },
    {
      "cell_type": "code",
      "metadata": {
        "id": "HZ4jczn9FP8H",
        "outputId": "de916922-064a-4883-d782-266384fc7eba",
        "colab": {
          "base_uri": "https://localhost:8080/"
        }
      },
      "source": [
        "X = iris.drop(labels=['Id', 'Species'], axis=1).values\n",
        "y = iris.Species.values\n",
        "print(\"X shape: \", X.shape, \"y shape: \", y.shape)\n",
        "(m,n) = X.shape\n",
        "print(\"Number of total examples: \", m, \" Number of features: \", n)\n"
      ],
      "execution_count": 10,
      "outputs": [
        {
          "output_type": "stream",
          "name": "stdout",
          "text": [
            "X shape:  (100, 4) y shape:  (100,)\n",
            "Number of total examples:  100  Number of features:  4\n"
          ]
        }
      ]
    },
    {
      "cell_type": "markdown",
      "metadata": {
        "id": "wCJu5CiYF_QO"
      },
      "source": [
        "#Split data\n",
        "- Train:test (70%:30%)\n",
        "- Initializing the random seeds to regenerate the outputs"
      ]
    },
    {
      "cell_type": "code",
      "metadata": {
        "id": "oRKsQFIEFm0_"
      },
      "source": [
        "seed = 5\n",
        "np.random.seed(seed)\n",
        "tf.set_random_seed(seed)\n",
        "train_index = np.random.choice(len(X), round(len(X) * 0.7), replace=False)"
      ],
      "execution_count": 11,
      "outputs": []
    },
    {
      "cell_type": "code",
      "metadata": {
        "id": "NXc9YrS4IyAk"
      },
      "source": [
        "# diff set\n",
        "test_index = np.array(list(set(range(len(X))) - set(train_index)))\n",
        "X_train = X[train_index]\n",
        "y_train = y[train_index]\n",
        "X_test = X[test_index]\n",
        "y_test = y[test_index]"
      ],
      "execution_count": 12,
      "outputs": []
    },
    {
      "cell_type": "markdown",
      "metadata": {
        "id": "IACn0rCQJbnu"
      },
      "source": [
        "#Normalize\n",
        "- Z normalization: feature_value-mean(feature)/standard_deviation(feature)\n",
        "- Min/max normalization: feature_value - min(feature)/max(feature)-min(feature)\n"
      ]
    },
    {
      "cell_type": "code",
      "metadata": {
        "id": "tso_5M3xJMbD"
      },
      "source": [
        "def z_normalization(feat_val):\n",
        "  feat_mean = np.mean(feat_val, axis=0)\n",
        "  feat_sd = np.std(feat_val, axis=0)\n",
        "  return np.divide(feat_val - feat_mean, feat_sd)"
      ],
      "execution_count": 13,
      "outputs": []
    },
    {
      "cell_type": "code",
      "metadata": {
        "id": "D3h--UQJK9Es"
      },
      "source": [
        "# z normalize\n",
        "X_train = z_normalization(X_train)\n",
        "X_test = z_normalization(X_test)"
      ],
      "execution_count": 14,
      "outputs": []
    },
    {
      "cell_type": "markdown",
      "metadata": {
        "id": "_2biG3vULiQw"
      },
      "source": [
        "#Weight and bias initialization"
      ]
    },
    {
      "cell_type": "code",
      "metadata": {
        "id": "2B_bg8vGLKjo"
      },
      "source": [
        "W = tf.Variable(tf.random.normal(shape=[n, 1]))\n",
        "b = tf.Variable(tf.random.normal(shape=[1, 1]))\n",
        "init = tf.global_variables_initializer()\n",
        "sess = tf.Session()\n",
        "sess.run(init)"
      ],
      "execution_count": 15,
      "outputs": []
    },
    {
      "cell_type": "markdown",
      "metadata": {
        "id": "adA0kkYIOB1B"
      },
      "source": [
        "#Defining the placeholders"
      ]
    },
    {
      "cell_type": "code",
      "metadata": {
        "id": "8yYkIeR3LuEi"
      },
      "source": [
        "data = tf.placeholder(dtype=tf.float32, shape=[None, n])\n",
        "target = tf.placeholder(dtype=tf.float32, shape=[None, 1])"
      ],
      "execution_count": 16,
      "outputs": []
    },
    {
      "cell_type": "markdown",
      "metadata": {
        "id": "mY3ceyJSRo4W"
      },
      "source": [
        "#Model definition"
      ]
    },
    {
      "cell_type": "code",
      "metadata": {
        "id": "HXyV3AM9OJFQ"
      },
      "source": [
        "mod = tf.matmul(data, W) + b"
      ],
      "execution_count": 17,
      "outputs": []
    },
    {
      "cell_type": "markdown",
      "metadata": {
        "id": "7-3peh-tR6tT"
      },
      "source": [
        "#Define loss function"
      ]
    },
    {
      "cell_type": "code",
      "metadata": {
        "id": "cEMUdntNR0fO"
      },
      "source": [
        "#first doing a sigmoid on the model result and then using the cross-entropy loss function\n",
        "loss = tf.reduce_mean(tf.nn.sigmoid_cross_entropy_with_logits(logits=mod, labels=target))"
      ],
      "execution_count": 18,
      "outputs": []
    },
    {
      "cell_type": "markdown",
      "metadata": {
        "id": "y0yVSC-8SghT"
      },
      "source": [
        "#Initialize hyperparameters\n",
        "- Batch size\n",
        "- Learning rate\n",
        "- Number of iterations"
      ]
    },
    {
      "cell_type": "code",
      "metadata": {
        "id": "JrXjcparSVPr"
      },
      "source": [
        "learning_rate = 0.01\n",
        "batch_size = 20\n",
        "iter_num = 500"
      ],
      "execution_count": 19,
      "outputs": []
    },
    {
      "cell_type": "markdown",
      "metadata": {
        "id": "baFTs-tQSlX0"
      },
      "source": [
        "#Define the optimizer"
      ]
    },
    {
      "cell_type": "code",
      "metadata": {
        "id": "GkxBbUK_SEMd"
      },
      "source": [
        "opt = tf.train.GradientDescentOptimizer(learning_rate)"
      ],
      "execution_count": 20,
      "outputs": []
    },
    {
      "cell_type": "markdown",
      "metadata": {
        "id": "KTr35U13SyHW"
      },
      "source": [
        "#Define the goal\n",
        "- minimize the defined loss"
      ]
    },
    {
      "cell_type": "code",
      "metadata": {
        "id": "FbHEFwBNSw3A"
      },
      "source": [
        "goal = opt.minimize(loss)"
      ],
      "execution_count": 21,
      "outputs": []
    },
    {
      "cell_type": "markdown",
      "metadata": {
        "id": "3uRr4Z6_S6Qm"
      },
      "source": [
        "#Define accuracy"
      ]
    },
    {
      "cell_type": "code",
      "metadata": {
        "id": "us409vhQTCfd"
      },
      "source": [
        "# The default threshold of sigmoid is 0.5, rounded off directly\n",
        "prediction = tf.round(tf.sigmoid(mod))\n",
        "# Bool into float32 type\n",
        "correct = tf.cast(tf.equal(prediction, target), dtype=tf.float32)\n",
        "# Average\n",
        "accuracy = tf.reduce_mean(correct)\n",
        "# End of the definition of the model framework"
      ],
      "execution_count": 22,
      "outputs": []
    },
    {
      "cell_type": "markdown",
      "metadata": {
        "id": "ZpTdZ6CvTMkB"
      },
      "source": [
        "# Initialize variables that analyze learning progress"
      ]
    },
    {
      "cell_type": "code",
      "metadata": {
        "id": "e_BlmE26TLvj"
      },
      "source": [
        "loss_trace = []\n",
        "train_acc = []\n",
        "test_acc = []"
      ],
      "execution_count": 23,
      "outputs": []
    },
    {
      "cell_type": "markdown",
      "metadata": {
        "id": "fT8jx1TiTY83"
      },
      "source": [
        "#Training"
      ]
    },
    {
      "cell_type": "code",
      "metadata": {
        "id": "qYNCBIVtS5XS",
        "outputId": "8ef91030-3174-48ef-e685-11cac5b5a340",
        "colab": {
          "base_uri": "https://localhost:8080/"
        }
      },
      "source": [
        "for epoch in range(iter_num):\n",
        "  # Generate random batch index\n",
        "  batch_index = np.random.choice(len(X_train), size=batch_size)\n",
        "  batch_X_train = X_train[batch_index]\n",
        "  batch_y_train = np.matrix(y_train[batch_index]).T\n",
        "  sess.run(goal, feed_dict={data: batch_X_train, target: batch_y_train})\n",
        "  temp_loss = sess.run(loss, feed_dict={data: batch_X_train, target: batch_y_train})\n",
        "  temp_train_acc = sess.run(accuracy, feed_dict={data: X_train, target: np.matrix(y_train).T})\n",
        "  temp_test_acc = sess.run(accuracy, feed_dict={data: X_test, target: np.matrix(y_test).T})\n",
        "  loss_trace.append(temp_loss)\n",
        "  train_acc.append(temp_train_acc)\n",
        "  test_acc.append(temp_test_acc)\n",
        "  if (epoch + 1) % 10 == 0:\n",
        "    print('epoch: {:4d} loss: {:5f} train_acc: {:5f} test_acc: {:5f}'.format(epoch + 1, temp_loss, temp_train_acc, temp_test_acc))\n"
      ],
      "execution_count": 24,
      "outputs": [
        {
          "output_type": "stream",
          "name": "stdout",
          "text": [
            "epoch:   10 loss: 1.982295 train_acc: 0.342857 test_acc: 0.233333\n",
            "epoch:   20 loss: 1.472155 train_acc: 0.357143 test_acc: 0.266667\n",
            "epoch:   30 loss: 1.863117 train_acc: 0.385714 test_acc: 0.266667\n",
            "epoch:   40 loss: 1.849467 train_acc: 0.400000 test_acc: 0.266667\n",
            "epoch:   50 loss: 1.637010 train_acc: 0.442857 test_acc: 0.266667\n",
            "epoch:   60 loss: 1.596818 train_acc: 0.471429 test_acc: 0.333333\n",
            "epoch:   70 loss: 1.252428 train_acc: 0.500000 test_acc: 0.433333\n",
            "epoch:   80 loss: 1.357625 train_acc: 0.557143 test_acc: 0.500000\n",
            "epoch:   90 loss: 1.082574 train_acc: 0.571429 test_acc: 0.500000\n",
            "epoch:  100 loss: 0.882788 train_acc: 0.585714 test_acc: 0.533333\n",
            "epoch:  110 loss: 0.427756 train_acc: 0.628571 test_acc: 0.533333\n",
            "epoch:  120 loss: 0.534466 train_acc: 0.628571 test_acc: 0.533333\n",
            "epoch:  130 loss: 0.693133 train_acc: 0.685714 test_acc: 0.533333\n",
            "epoch:  140 loss: 0.714973 train_acc: 0.742857 test_acc: 0.566667\n",
            "epoch:  150 loss: 0.632976 train_acc: 0.785714 test_acc: 0.600000\n",
            "epoch:  160 loss: 0.298237 train_acc: 0.785714 test_acc: 0.600000\n",
            "epoch:  170 loss: 0.302105 train_acc: 0.785714 test_acc: 0.633333\n",
            "epoch:  180 loss: 0.578667 train_acc: 0.814286 test_acc: 0.666667\n",
            "epoch:  190 loss: 0.306591 train_acc: 0.828571 test_acc: 0.700000\n",
            "epoch:  200 loss: 0.431966 train_acc: 0.842857 test_acc: 0.733333\n",
            "epoch:  210 loss: 0.459853 train_acc: 0.885714 test_acc: 0.733333\n",
            "epoch:  220 loss: 0.319051 train_acc: 0.900000 test_acc: 0.733333\n",
            "epoch:  230 loss: 0.220820 train_acc: 0.900000 test_acc: 0.766667\n",
            "epoch:  240 loss: 0.237701 train_acc: 0.914286 test_acc: 0.833333\n",
            "epoch:  250 loss: 0.280385 train_acc: 0.914286 test_acc: 0.900000\n",
            "epoch:  260 loss: 0.338849 train_acc: 0.914286 test_acc: 0.900000\n",
            "epoch:  270 loss: 0.328429 train_acc: 0.914286 test_acc: 0.933333\n",
            "epoch:  280 loss: 0.192122 train_acc: 0.942857 test_acc: 0.933333\n",
            "epoch:  290 loss: 0.183984 train_acc: 0.957143 test_acc: 0.933333\n",
            "epoch:  300 loss: 0.201207 train_acc: 0.971429 test_acc: 0.933333\n",
            "epoch:  310 loss: 0.161452 train_acc: 0.971429 test_acc: 0.933333\n",
            "epoch:  320 loss: 0.267720 train_acc: 0.985714 test_acc: 0.933333\n",
            "epoch:  330 loss: 0.176058 train_acc: 0.985714 test_acc: 0.966667\n",
            "epoch:  340 loss: 0.181714 train_acc: 0.985714 test_acc: 0.966667\n",
            "epoch:  350 loss: 0.175636 train_acc: 0.985714 test_acc: 0.966667\n",
            "epoch:  360 loss: 0.107777 train_acc: 1.000000 test_acc: 0.966667\n",
            "epoch:  370 loss: 0.124559 train_acc: 1.000000 test_acc: 0.966667\n",
            "epoch:  380 loss: 0.106977 train_acc: 1.000000 test_acc: 1.000000\n",
            "epoch:  390 loss: 0.107132 train_acc: 1.000000 test_acc: 1.000000\n",
            "epoch:  400 loss: 0.102600 train_acc: 1.000000 test_acc: 1.000000\n",
            "epoch:  410 loss: 0.133004 train_acc: 1.000000 test_acc: 1.000000\n",
            "epoch:  420 loss: 0.133350 train_acc: 1.000000 test_acc: 1.000000\n",
            "epoch:  430 loss: 0.094218 train_acc: 1.000000 test_acc: 1.000000\n",
            "epoch:  440 loss: 0.085331 train_acc: 1.000000 test_acc: 1.000000\n",
            "epoch:  450 loss: 0.108353 train_acc: 1.000000 test_acc: 1.000000\n",
            "epoch:  460 loss: 0.116311 train_acc: 1.000000 test_acc: 1.000000\n",
            "epoch:  470 loss: 0.072589 train_acc: 1.000000 test_acc: 1.000000\n",
            "epoch:  480 loss: 0.064609 train_acc: 1.000000 test_acc: 1.000000\n",
            "epoch:  490 loss: 0.124912 train_acc: 1.000000 test_acc: 1.000000\n",
            "epoch:  500 loss: 0.069840 train_acc: 1.000000 test_acc: 1.000000\n"
          ]
        }
      ]
    },
    {
      "cell_type": "markdown",
      "metadata": {
        "id": "pNB7uAHAXLLs"
      },
      "source": [
        "#Visualization of the loss function"
      ]
    },
    {
      "cell_type": "code",
      "metadata": {
        "id": "sb5Sq_anUnzh",
        "outputId": "6fb53068-22dc-4e85-8ea8-d8b893a1f1a9",
        "colab": {
          "base_uri": "https://localhost:8080/",
          "height": 472
        }
      },
      "source": [
        "\n",
        "plt.plot(loss_trace)\n",
        "plt.title('Cross Entropy Loss')\n",
        "plt.xlabel('epoch')\n",
        "plt.ylabel('loss')\n",
        "plt.show()"
      ],
      "execution_count": 25,
      "outputs": [
        {
          "output_type": "display_data",
          "data": {
            "text/plain": [
              "<Figure size 640x480 with 1 Axes>"
            ],
            "image/png": "[encoded data removed]"
          },
          "metadata": {}
        }
      ]
    },
    {
      "cell_type": "markdown",
      "metadata": {
        "id": "FcOjBmpKndBT"
      },
      "source": [
        "#Train and test accuracy visualization"
      ]
    },
    {
      "cell_type": "code",
      "metadata": {
        "id": "oqud1_gRWrGf",
        "outputId": "fca7ca7e-914e-446e-8754-aed55c7f39a9",
        "colab": {
          "base_uri": "https://localhost:8080/",
          "height": 472
        }
      },
      "source": [
        "\n",
        "plt.plot(train_acc, 'b-', label='train accuracy')\n",
        "plt.plot(test_acc, 'k-', label='test accuracy')\n",
        "plt.xlabel('epoch')\n",
        "plt.ylabel('accuracy')\n",
        "plt.title('Train and Test Accuracy')\n",
        "plt.legend(loc='best')\n",
        "plt.show()"
      ],
      "execution_count": 26,
      "outputs": [
        {
          "output_type": "display_data",
          "data": {
            "text/plain": [
              "<Figure size 640x480 with 1 Axes>"
            ],
            "image/png": "[encoded data removed]"
          },
          "metadata": {}
        }
      ]
    },
    {
      "cell_type": "code",
      "source": [],
      "metadata": {
        "id": "X3Oj1d7kv0Sm"
      },
      "execution_count": null,
      "outputs": []
    }
  ]
}